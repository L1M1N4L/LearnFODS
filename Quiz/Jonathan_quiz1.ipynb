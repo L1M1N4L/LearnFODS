{
 "cells": [
  {
   "cell_type": "code",
   "execution_count": 19,
   "metadata": {},
   "outputs": [],
   "source": [
    "import pandas as pd\n",
    "import numpy as np"
   ]
  },
  {
   "cell_type": "code",
   "execution_count": 20,
   "metadata": {},
   "outputs": [],
   "source": [
    "df = pd.read_csv('healthcare_dataset_B.csv')  # Load CSV file"
   ]
  },
  {
   "cell_type": "code",
   "execution_count": 21,
   "metadata": {},
   "outputs": [
    {
     "name": "stdout",
     "output_type": "stream",
     "text": [
      "<class 'pandas.core.frame.DataFrame'>\n",
      "RangeIndex: 55500 entries, 0 to 55499\n",
      "Data columns (total 16 columns):\n",
      " #   Column              Non-Null Count  Dtype  \n",
      "---  ------              --------------  -----  \n",
      " 0   Unnamed: 0          55500 non-null  int64  \n",
      " 1   Name                55500 non-null  object \n",
      " 2   Age                 55500 non-null  int64  \n",
      " 3   Gender              55500 non-null  object \n",
      " 4   Blood Type          55334 non-null  object \n",
      " 5   Medical Condition   55500 non-null  object \n",
      " 6   Date of Admission   55500 non-null  object \n",
      " 7   Doctor              55222 non-null  object \n",
      " 8   Hospital            55500 non-null  object \n",
      " 9   Insurance Provider  55500 non-null  object \n",
      " 10  Billing Amount      55500 non-null  float64\n",
      " 11  Room Number         52725 non-null  float64\n",
      " 12  Admission Type      55500 non-null  object \n",
      " 13  Discharge Date      55500 non-null  object \n",
      " 14  Medication          55500 non-null  object \n",
      " 15  Test Results        55500 non-null  object \n",
      "dtypes: float64(2), int64(2), object(12)\n",
      "memory usage: 6.8+ MB\n"
     ]
    }
   ],
   "source": [
    "df.info()   "
   ]
  },
  {
   "cell_type": "code",
   "execution_count": 29,
   "metadata": {},
   "outputs": [
    {
     "name": "stdout",
     "output_type": "stream",
     "text": [
      "<class 'pandas.core.frame.DataFrame'>\n",
      "RangeIndex: 55500 entries, 0 to 55499\n",
      "Data columns (total 16 columns):\n",
      " #   Column              Non-Null Count  Dtype  \n",
      "---  ------              --------------  -----  \n",
      " 0   Unnamed: 0          55500 non-null  int64  \n",
      " 1   Name                55500 non-null  object \n",
      " 2   Age                 55500 non-null  int64  \n",
      " 3   Gender              55500 non-null  object \n",
      " 4   Blood Type          55334 non-null  object \n",
      " 5   Medical Condition   55500 non-null  object \n",
      " 6   Date of Admission   55500 non-null  object \n",
      " 7   Doctor              55222 non-null  object \n",
      " 8   Hospital            55500 non-null  object \n",
      " 9   Insurance Provider  55500 non-null  object \n",
      " 10  Billing Amount      55500 non-null  float64\n",
      " 11  Room Number         52725 non-null  float64\n",
      " 12  Admission Type      55500 non-null  object \n",
      " 13  Discharge Date      55500 non-null  object \n",
      " 14  Medication          55500 non-null  object \n",
      " 15  Test Results        55500 non-null  object \n",
      "dtypes: float64(2), int64(2), object(12)\n",
      "memory usage: 6.8+ MB\n"
     ]
    }
   ],
   "source": [
    "pd.to_datetime(df['Date of Admission'])"
   ]
  },
  {
   "cell_type": "code",
   "execution_count": 28,
   "metadata": {},
   "outputs": [
    {
     "name": "stdout",
     "output_type": "stream",
     "text": [
      "<class 'pandas.core.frame.DataFrame'>\n",
      "RangeIndex: 55500 entries, 0 to 55499\n",
      "Data columns (total 16 columns):\n",
      " #   Column              Non-Null Count  Dtype  \n",
      "---  ------              --------------  -----  \n",
      " 0   Unnamed: 0          55500 non-null  int64  \n",
      " 1   Name                55500 non-null  object \n",
      " 2   Age                 55500 non-null  int64  \n",
      " 3   Gender              55500 non-null  object \n",
      " 4   Blood Type          55334 non-null  object \n",
      " 5   Medical Condition   55500 non-null  object \n",
      " 6   Date of Admission   55500 non-null  object \n",
      " 7   Doctor              55222 non-null  object \n",
      " 8   Hospital            55500 non-null  object \n",
      " 9   Insurance Provider  55500 non-null  object \n",
      " 10  Billing Amount      55500 non-null  float64\n",
      " 11  Room Number         52725 non-null  float64\n",
      " 12  Admission Type      55500 non-null  object \n",
      " 13  Discharge Date      55500 non-null  object \n",
      " 14  Medication          55500 non-null  object \n",
      " 15  Test Results        55500 non-null  object \n",
      "dtypes: float64(2), int64(2), object(12)\n",
      "memory usage: 6.8+ MB\n"
     ]
    }
   ],
   "source": [
    "df.info()"
   ]
  },
  {
   "cell_type": "code",
   "execution_count": 22,
   "metadata": {},
   "outputs": [
    {
     "data": {
      "text/plain": [
       "count    55500.000000\n",
       "mean        51.539459\n",
       "std         19.602454\n",
       "min         13.000000\n",
       "25%         35.000000\n",
       "50%         52.000000\n",
       "75%         68.000000\n",
       "max         89.000000\n",
       "Name: Age, dtype: float64"
      ]
     },
     "execution_count": 22,
     "metadata": {},
     "output_type": "execute_result"
    }
   ],
   "source": [
    "df['Age'].describe() "
   ]
  },
  {
   "cell_type": "code",
   "execution_count": 23,
   "metadata": {},
   "outputs": [
    {
     "data": {
      "text/plain": [
       "Unnamed: 0               0\n",
       "Name                     0\n",
       "Age                      0\n",
       "Gender                   0\n",
       "Blood Type             166\n",
       "Medical Condition        0\n",
       "Date of Admission        0\n",
       "Doctor                 278\n",
       "Hospital                 0\n",
       "Insurance Provider       0\n",
       "Billing Amount           0\n",
       "Room Number           2775\n",
       "Admission Type           0\n",
       "Discharge Date           0\n",
       "Medication               0\n",
       "Test Results             0\n",
       "dtype: int64"
      ]
     },
     "execution_count": 23,
     "metadata": {},
     "output_type": "execute_result"
    }
   ],
   "source": [
    "df.isnull().sum() "
   ]
  },
  {
   "cell_type": "code",
   "execution_count": 37,
   "metadata": {},
   "outputs": [],
   "source": [
    "df['Date of Admission']= pd.to_datetime(df['Date of Admission'])\n",
    "df['Discharge Date'] = pd.to_datetime(df['Discharge Date'])\n",
    "df['Duration of Stay'] =  df['Discharge Date']-df['Date of Admission']"
   ]
  },
  {
   "cell_type": "code",
   "execution_count": 38,
   "metadata": {},
   "outputs": [
    {
     "data": {
      "text/html": [
       "<div>\n",
       "<style scoped>\n",
       "    .dataframe tbody tr th:only-of-type {\n",
       "        vertical-align: middle;\n",
       "    }\n",
       "\n",
       "    .dataframe tbody tr th {\n",
       "        vertical-align: top;\n",
       "    }\n",
       "\n",
       "    .dataframe thead th {\n",
       "        text-align: right;\n",
       "    }\n",
       "</style>\n",
       "<table border=\"1\" class=\"dataframe\">\n",
       "  <thead>\n",
       "    <tr style=\"text-align: right;\">\n",
       "      <th></th>\n",
       "      <th>Unnamed: 0</th>\n",
       "      <th>Name</th>\n",
       "      <th>Age</th>\n",
       "      <th>Gender</th>\n",
       "      <th>Blood Type</th>\n",
       "      <th>Medical Condition</th>\n",
       "      <th>Date of Admission</th>\n",
       "      <th>Doctor</th>\n",
       "      <th>Hospital</th>\n",
       "      <th>Insurance Provider</th>\n",
       "      <th>Billing Amount</th>\n",
       "      <th>Room Number</th>\n",
       "      <th>Admission Type</th>\n",
       "      <th>Discharge Date</th>\n",
       "      <th>Medication</th>\n",
       "      <th>Test Results</th>\n",
       "      <th>Duration of Stay</th>\n",
       "    </tr>\n",
       "  </thead>\n",
       "  <tbody>\n",
       "    <tr>\n",
       "      <th>0</th>\n",
       "      <td>0</td>\n",
       "      <td>Bobby JacksOn</td>\n",
       "      <td>30</td>\n",
       "      <td>Male</td>\n",
       "      <td>B-</td>\n",
       "      <td>Cancer</td>\n",
       "      <td>2024-01-31</td>\n",
       "      <td>Matthew Smith</td>\n",
       "      <td>Sons and Miller</td>\n",
       "      <td>Blue Cross</td>\n",
       "      <td>18856.281306</td>\n",
       "      <td>328.0</td>\n",
       "      <td>Urgent</td>\n",
       "      <td>2024-02-02</td>\n",
       "      <td>Paracetamol</td>\n",
       "      <td>Normal</td>\n",
       "      <td>2 days</td>\n",
       "    </tr>\n",
       "    <tr>\n",
       "      <th>1</th>\n",
       "      <td>1</td>\n",
       "      <td>LesLie TErRy</td>\n",
       "      <td>62</td>\n",
       "      <td>Male</td>\n",
       "      <td>A+</td>\n",
       "      <td>Obesity</td>\n",
       "      <td>2019-08-20</td>\n",
       "      <td>Samantha Davies</td>\n",
       "      <td>Kim Inc</td>\n",
       "      <td>Medicare</td>\n",
       "      <td>33643.327287</td>\n",
       "      <td>265.0</td>\n",
       "      <td>Emergency</td>\n",
       "      <td>2019-08-26</td>\n",
       "      <td>Ibuprofen</td>\n",
       "      <td>Inconclusive</td>\n",
       "      <td>6 days</td>\n",
       "    </tr>\n",
       "    <tr>\n",
       "      <th>2</th>\n",
       "      <td>2</td>\n",
       "      <td>DaNnY sMitH</td>\n",
       "      <td>76</td>\n",
       "      <td>Female</td>\n",
       "      <td>A-</td>\n",
       "      <td>Obesity</td>\n",
       "      <td>2022-09-22</td>\n",
       "      <td>Tiffany Mitchell</td>\n",
       "      <td>Cook PLC</td>\n",
       "      <td>Aetna</td>\n",
       "      <td>27955.096079</td>\n",
       "      <td>205.0</td>\n",
       "      <td>Emergency</td>\n",
       "      <td>2022-10-07</td>\n",
       "      <td>Aspirin</td>\n",
       "      <td>Normal</td>\n",
       "      <td>15 days</td>\n",
       "    </tr>\n",
       "    <tr>\n",
       "      <th>3</th>\n",
       "      <td>3</td>\n",
       "      <td>andrEw waTtS</td>\n",
       "      <td>28</td>\n",
       "      <td>Female</td>\n",
       "      <td>O+</td>\n",
       "      <td>Diabetes</td>\n",
       "      <td>2020-11-18</td>\n",
       "      <td>Kevin Wells</td>\n",
       "      <td>Hernandez Rogers and Vang,</td>\n",
       "      <td>Medicare</td>\n",
       "      <td>37909.782410</td>\n",
       "      <td>450.0</td>\n",
       "      <td>Elective</td>\n",
       "      <td>2020-12-18</td>\n",
       "      <td>Ibuprofen</td>\n",
       "      <td>Abnormal</td>\n",
       "      <td>30 days</td>\n",
       "    </tr>\n",
       "    <tr>\n",
       "      <th>4</th>\n",
       "      <td>4</td>\n",
       "      <td>adrIENNE bEll</td>\n",
       "      <td>43</td>\n",
       "      <td>Female</td>\n",
       "      <td>AB+</td>\n",
       "      <td>Cancer</td>\n",
       "      <td>2022-09-19</td>\n",
       "      <td>Kathleen Hanna</td>\n",
       "      <td>White-White</td>\n",
       "      <td>Aetna</td>\n",
       "      <td>14238.317814</td>\n",
       "      <td>458.0</td>\n",
       "      <td>Urgent</td>\n",
       "      <td>2022-10-09</td>\n",
       "      <td>Penicillin</td>\n",
       "      <td>Abnormal</td>\n",
       "      <td>20 days</td>\n",
       "    </tr>\n",
       "  </tbody>\n",
       "</table>\n",
       "</div>"
      ],
      "text/plain": [
       "   Unnamed: 0           Name  Age  Gender Blood Type Medical Condition  \\\n",
       "0           0  Bobby JacksOn   30    Male         B-            Cancer   \n",
       "1           1   LesLie TErRy   62    Male         A+           Obesity   \n",
       "2           2    DaNnY sMitH   76  Female         A-           Obesity   \n",
       "3           3   andrEw waTtS   28  Female         O+          Diabetes   \n",
       "4           4  adrIENNE bEll   43  Female        AB+            Cancer   \n",
       "\n",
       "  Date of Admission            Doctor                    Hospital  \\\n",
       "0        2024-01-31     Matthew Smith             Sons and Miller   \n",
       "1        2019-08-20   Samantha Davies                     Kim Inc   \n",
       "2        2022-09-22  Tiffany Mitchell                    Cook PLC   \n",
       "3        2020-11-18       Kevin Wells  Hernandez Rogers and Vang,   \n",
       "4        2022-09-19    Kathleen Hanna                 White-White   \n",
       "\n",
       "  Insurance Provider  Billing Amount  Room Number Admission Type  \\\n",
       "0         Blue Cross    18856.281306        328.0         Urgent   \n",
       "1           Medicare    33643.327287        265.0      Emergency   \n",
       "2              Aetna    27955.096079        205.0      Emergency   \n",
       "3           Medicare    37909.782410        450.0       Elective   \n",
       "4              Aetna    14238.317814        458.0         Urgent   \n",
       "\n",
       "  Discharge Date   Medication  Test Results Duration of Stay  \n",
       "0     2024-02-02  Paracetamol        Normal           2 days  \n",
       "1     2019-08-26    Ibuprofen  Inconclusive           6 days  \n",
       "2     2022-10-07      Aspirin        Normal          15 days  \n",
       "3     2020-12-18    Ibuprofen      Abnormal          30 days  \n",
       "4     2022-10-09   Penicillin      Abnormal          20 days  "
      ]
     },
     "execution_count": 38,
     "metadata": {},
     "output_type": "execute_result"
    }
   ],
   "source": [
    "df.head()"
   ]
  },
  {
   "cell_type": "code",
   "execution_count": 53,
   "metadata": {},
   "outputs": [
    {
     "name": "stdout",
     "output_type": "stream",
     "text": [
      "Medical Condition\n",
      "Arthritis       688\n",
      "Hypertension    680\n",
      "Cancer          679\n",
      "Asthma          676\n",
      "Obesity         670\n",
      "Diabetes        642\n",
      "Name: count, dtype: int64\n"
     ]
    }
   ],
   "source": [
    "\n",
    "\n",
    "filtered_rows = df[df['Age'] > 80]\n",
    "filtered_rows.describe()\n",
    "filtered_rows2 = filtered_rows['Medical Condition']\n",
    "filtered_rows2\n",
    "s = filtered_rows2.value_counts()\n",
    "print (s)"
   ]
  },
  {
   "cell_type": "code",
   "execution_count": 54,
   "metadata": {},
   "outputs": [
    {
     "name": "stdout",
     "output_type": "stream",
     "text": [
      "Medical Condition\n",
      "Arthritis       688\n",
      "Hypertension    680\n",
      "Cancer          679\n",
      "Asthma          676\n",
      "Obesity         670\n",
      "Diabetes        642\n",
      "Name: count, dtype: int64\n"
     ]
    }
   ],
   "source": [
    "filtered_rows = df[df['Age'] > 80]\n",
    "filtered_rows.describe()\n",
    "filtered_rows2\n",
    "s = filtered_rows2.value_counts()\n",
    "print (s)"
   ]
  },
  {
   "cell_type": "code",
   "execution_count": 57,
   "metadata": {},
   "outputs": [
    {
     "name": "stdout",
     "output_type": "stream",
     "text": [
      "       Unnamed: 0           Name  Age  Gender Blood Type Medical Condition  \\\n",
      "36349       36349  tOdd CARrILlO   51  Female         A+      Hypertension   \n",
      "\n",
      "      Date of Admission            Doctor       Hospital Insurance Provider  \\\n",
      "36349        2023-09-08  Kathleen Griffin  Griffin Group         Blue Cross   \n",
      "\n",
      "       Billing Amount  Room Number Admission Type Discharge Date Medication  \\\n",
      "36349    52764.276736        209.0       Elective     2023-10-04  Ibuprofen   \n",
      "\n",
      "      Test Results Duration of Stay  \n",
      "36349       Normal          26 days  \n"
     ]
    }
   ],
   "source": [
    "df['Billing Amount'].max()\n",
    "df2 = df.loc[df['Billing Amount'] == df['Billing Amount'].max()]\n",
    "print(df2)"
   ]
  },
  {
   "cell_type": "code",
   "execution_count": 63,
   "metadata": {},
   "outputs": [
    {
     "name": "stdout",
     "output_type": "stream",
     "text": [
      "0        0\n",
      "1        0\n",
      "2        0\n",
      "3        0\n",
      "4        0\n",
      "        ..\n",
      "55495    0\n",
      "55496    0\n",
      "55497    0\n",
      "55498    0\n",
      "55499    0\n",
      "Length: 55500, dtype: int64\n"
     ]
    }
   ],
   "source": [
    "row_nan_count = df.isna().sum(axis=1)\n",
    "print(row_nan_count)"
   ]
  }
 ],
 "metadata": {
  "kernelspec": {
   "display_name": "Python 3",
   "language": "python",
   "name": "python3"
  },
  "language_info": {
   "codemirror_mode": {
    "name": "ipython",
    "version": 3
   },
   "file_extension": ".py",
   "mimetype": "text/x-python",
   "name": "python",
   "nbconvert_exporter": "python",
   "pygments_lexer": "ipython3",
   "version": "3.12.7"
  }
 },
 "nbformat": 4,
 "nbformat_minor": 2
}
